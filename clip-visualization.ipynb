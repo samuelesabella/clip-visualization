{
 "cells": [
  {
   "cell_type": "code",
   "execution_count": null,
   "id": "d54621ff-c09b-4794-bc5c-9b305cb7ad6f",
   "metadata": {},
   "outputs": [],
   "source": [
    "%load_ext autoreload\n",
    "%autoreload 2\n",
    "\n",
    "from src.widgets import ClipFeaturesLoader, create_dataset_selection_vbox\n",
    "from src.clip_features import Vocabulary, dump_corpus_features"
   ]
  },
  {
   "cell_type": "code",
   "execution_count": null,
   "id": "50ac5796-af28-4759-88a5-3a6d122a8a75",
   "metadata": {},
   "outputs": [],
   "source": [
    "CLIP = ClipFeaturesLoader()"
   ]
  },
  {
   "cell_type": "code",
   "execution_count": null,
   "id": "29269d43-9ed8-447e-a7d8-f2bde3245089",
   "metadata": {},
   "outputs": [],
   "source": [
    "create_dataset_selection_vbox(CLIP)"
   ]
  },
  {
   "cell_type": "code",
   "execution_count": null,
   "id": "d0eab201-49ab-4c7c-be9f-bf771115eeb9",
   "metadata": {},
   "outputs": [],
   "source": [
    "# dump_corpus_features('data/english_vocabulary.txt', 'result.json')"
   ]
  },
  {
   "cell_type": "code",
   "execution_count": null,
   "id": "0e206c37-b078-4cb5-ba83-396e91b4f049",
   "metadata": {},
   "outputs": [],
   "source": [
    "CF = Vocabulary('data/vocabulary_embeddings.pkl')"
   ]
  },
  {
   "cell_type": "code",
   "execution_count": null,
   "id": "0919a27a-a824-4234-96a9-daf20e01a465",
   "metadata": {},
   "outputs": [],
   "source": [
    "embedding = CF('actor') - CF('man') + CF('woman')\n",
    "', '.join(CF.nearest(embedding))"
   ]
  },
  {
   "cell_type": "code",
   "execution_count": null,
   "id": "031ae101-dfa5-42fc-8a89-6a493f7f6ef7",
   "metadata": {},
   "outputs": [],
   "source": []
  }
 ],
 "metadata": {
  "kernelspec": {
   "display_name": "Python 3 (ipykernel)",
   "language": "python",
   "name": "python3"
  },
  "language_info": {
   "codemirror_mode": {
    "name": "ipython",
    "version": 3
   },
   "file_extension": ".py",
   "mimetype": "text/x-python",
   "name": "python",
   "nbconvert_exporter": "python",
   "pygments_lexer": "ipython3",
   "version": "3.11.3"
  }
 },
 "nbformat": 4,
 "nbformat_minor": 5
}
